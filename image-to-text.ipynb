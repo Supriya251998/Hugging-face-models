{
 "cells": [
  {
   "cell_type": "code",
   "execution_count": 4,
   "metadata": {},
   "outputs": [
    {
     "name": "stderr",
     "output_type": "stream",
     "text": [
      "/Users/supriyasindigerekumaraswmamy/Desktop/Thesis/Hugging-face-models/venv/lib/python3.12/site-packages/tqdm/auto.py:21: TqdmWarning: IProgress not found. Please update jupyter and ipywidgets. See https://ipywidgets.readthedocs.io/en/stable/user_install.html\n",
      "  from .autonotebook import tqdm as notebook_tqdm\n",
      "2024-05-29 19:28:29.090181: I tensorflow/core/platform/cpu_feature_guard.cc:210] This TensorFlow binary is optimized to use available CPU instructions in performance-critical operations.\n",
      "To enable the following instructions: AVX2 FMA, in other operations, rebuild TensorFlow with the appropriate compiler flags.\n"
     ]
    }
   ],
   "source": [
    "from dotenv import find_dotenv,load_dotenv\n",
    "from transformers import pipeline\n",
    "load_dotenv(find_dotenv())\n",
    "import warnings\n",
    "warnings.filterwarnings('ignore')"
   ]
  },
  {
   "cell_type": "code",
   "execution_count": 5,
   "metadata": {},
   "outputs": [],
   "source": [
    "def img2text(url):\n",
    "    pipe=pipeline(\"image-to-text\", model=\"Salesforce/blip-image-captioning-large\")\n",
    "    text = pipe(url)[0]['generated_text']\n",
    "    print(text)\n",
    "    return text\n"
   ]
  },
  {
   "cell_type": "code",
   "execution_count": 6,
   "metadata": {},
   "outputs": [
    {
     "name": "stdout",
     "output_type": "stream",
     "text": [
      "a screenshot of a computer screen with a graph and a bar chart\n"
     ]
    }
   ],
   "source": [
    "import warnings\n",
    "warnings.filterwarnings('ignore')\n",
    "image=img2text('dataset.png')\n"
   ]
  },
  {
   "cell_type": "code",
   "execution_count": 14,
   "metadata": {},
   "outputs": [
    {
     "data": {
      "text/plain": [
       "'a screenshot of a computer screen with a graph and a bar chart'"
      ]
     },
     "execution_count": 14,
     "metadata": {},
     "output_type": "execute_result"
    }
   ],
   "source": [
    "image"
   ]
  },
  {
   "cell_type": "code",
   "execution_count": null,
   "metadata": {},
   "outputs": [],
   "source": [
    "prompt=\"\"\" You are a storyteller;\n",
    "Generate a short story based on a narrative in less than 30 words;\n",
    "context: {image}\n",
    "\n",
    "\"\"\""
   ]
  },
  {
   "cell_type": "code",
   "execution_count": 21,
   "metadata": {},
   "outputs": [],
   "source": [
    "import ollama\n",
    "def generate_story(scenario):\n",
    "    variable=scenario\n",
    "    prompt=f\"\"\"You are a storyteller;\n",
    "Generate a short story based on the {scenario} in less than 30 words;\n",
    "Use the below output format;\n",
    "\n",
    "context: {scenario}\n",
    "Story:\n",
    "\"\"\"\n",
    "    response = ollama.generate(model='llama3',options={'temperature':1},messages=[{\n",
    "    'role':'user',\n",
    "    'content':prompt,\n",
    "    }])\n",
    "    print(response['message']['content'])\n",
    "    return response['message']['content']"
   ]
  },
  {
   "cell_type": "code",
   "execution_count": 26,
   "metadata": {},
   "outputs": [],
   "source": [
    "import ollama\n",
    "\n",
    "def generate_story1(scenario):\n",
    "    prompt = f\"\"\"You are a storyteller;\n",
    "Generate a short story based on the {scenario} in less than 30 words;\n",
    "Use the below output format;\n",
    "\n",
    "context: {scenario}\n",
    "Story:\n",
    "\"\"\"\n",
    "    response = ollama.chat(model='llama3', options={'temperature': 1}, messages=[{\n",
    "        'role': 'user',\n",
    "        'content': prompt,\n",
    "    }])\n",
    "    story = response['message']['content']\n",
    "    print(story)\n",
    "    return story\n"
   ]
  },
  {
   "cell_type": "code",
   "execution_count": 27,
   "metadata": {},
   "outputs": [
    {
     "name": "stdout",
     "output_type": "stream",
     "text": [
      "Context:\n",
      "\n",
      "\n",
      "Story:\n",
      "\n",
      "As Dr. Rachel gazed at her computer screen, she saw a graph that revealed a breakthrough pattern in her medical trial. The bar chart showed a significant increase in patient recovery rates. She smiled, knowing this discovery could change the course of her research and bring hope to countless lives.\n"
     ]
    }
   ],
   "source": [
    "story = generate_story1(image)"
   ]
  }
 ],
 "metadata": {
  "kernelspec": {
   "display_name": "venv",
   "language": "python",
   "name": "python3"
  },
  "language_info": {
   "codemirror_mode": {
    "name": "ipython",
    "version": 3
   },
   "file_extension": ".py",
   "mimetype": "text/x-python",
   "name": "python",
   "nbconvert_exporter": "python",
   "pygments_lexer": "ipython3",
   "version": "3.12.3"
  }
 },
 "nbformat": 4,
 "nbformat_minor": 2
}
